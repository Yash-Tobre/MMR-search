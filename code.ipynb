{
 "cells": [
  {
   "cell_type": "markdown",
   "metadata": {},
   "source": [
    "### Maximal Marginal Relevance Algorithm\n",
    "\n",
    "## Introduction\n",
    "\n",
    "Maximal Marginal Relevance Algorithm is a foundational algorithm in the field of information retrieval, first introduced in 1998 by Jamie Carboneel and Jade Goldstein in their pare *\"The Use of MMR, Diversity-Based Reranking for Reordering documents and producing summaries\"*\n",
    "The algorithm became fundamental in modern search and recommendation systems, providing a robust method to balance relevance and diversity in ranked outputs.\n",
    "\n",
    "## Why was it developed?\n",
    "Think about it like this- you have an article written by a big tech company talking about the latest advancements in LLM and Machine Learning; and it was so popular that it was cited by 20 other articles. Now you read the article and there are a few terms in the article that you do not understand, so you go on to search about it a bit more. But as you search, based specifically on the keywords, the simplest of information retrieval algorithms may result all the 20 articles as the top matching algortihms. Well, that does not give you the results you want or more specifically the diversity you wanted. To tackle this problem, MMR was made.\n",
    "\n",
    "## How does it work:\n",
    "The MMR algorithm works by iteratively selecting documents that maximize the trade-off between relevance to the query and novelty with respect to previously selected documents. Mathematically, it can be expressed as:\n",
    "\n",
    "\n",
    "The formula for MMR is:\n",
    "\n",
    "$$\n",
    "\\text{MMR} = \\arg\\max_{D_i \\in \\text{Candidates}} \\Big[ \\lambda \\cdot \\text{Sim}(D_i, Q) - (1 - \\lambda) \\cdot \\max_{D_j \\in \\text{Selected}} \\text{Sim}(D_i, D_j) \\Big]\n",
    "$$\n",
    "\n",
    "### Components:\n",
    "- **$\\text{Sim}(D_i, Q)$:**  \n",
    "  Measures how relevant the document $D_i$ is to the query $Q$.\n",
    "\n",
    "- **$\\text{Sim}(D_i, D_j)$:**  \n",
    "  Measures the similarity between document $D_i$ and document $D_j$. This helps ensure diversity by penalizing documents that are too similar to those already selected.\n",
    "\n",
    "- **$\\lambda$:**  \n",
    "  A tunable parameter that determines the balance between:\n",
    "  - **Relevance ($\\lambda$):** Prioritizing documents that closely match the query.\n",
    "  - **Diversity ($1 - \\lambda$):** Avoiding redundancy by selecting diverse documents.\n",
    "\n",
    "\n"
   ]
  },
  {
   "cell_type": "markdown",
   "metadata": {},
   "source": [
    "So basically, whatever similarity metric that you might be using, you would first calculate the similarity between the document and the query, multiply it with the factor $\\lambda$ which acts like a weight to decide the important of the query's similarity with the document. We then give the remaining weight to the similarity between the previously selected document. This help manage the trade off between variance and diversity."
   ]
  },
  {
   "cell_type": "markdown",
   "metadata": {},
   "source": [
    "I implemented the MMR research algorithm based on the original paper: https://www.cs.cmu.edu/~jgc/publication/The_Use_MMR_Diversity_Based_LTMIR_1998.pdf, on a small dataset of different steel companies. You can find out the codebook [here]()."
   ]
  },
  {
   "cell_type": "markdown",
   "metadata": {},
   "source": [
    "### Implementation"
   ]
  },
  {
   "cell_type": "markdown",
   "metadata": {},
   "source": [
    "#### Importing Requirements"
   ]
  },
  {
   "cell_type": "code",
   "execution_count": null,
   "metadata": {},
   "outputs": [],
   "source": [
    "import pandas as pd\n",
    "import seaborn as sns\n",
    "import matplotlib.pyplot as plt\n",
    "from sklearn.feature_extraction.text import TfidfVectorizer\n",
    "from sklearn.metrics.pairwise import cosine_similarity\n",
    "from sklearn.metrics.pairwise import linear_kernel\n",
    "import numpy as np"
   ]
  },
  {
   "cell_type": "markdown",
   "metadata": {},
   "source": [
    "#### Helper Functions"
   ]
  },
  {
   "cell_type": "code",
   "execution_count": null,
   "metadata": {},
   "outputs": [],
   "source": [
    "def analyze_column_lengths(data, column_name):\n",
    "    \"\"\"\n",
    "    Analyzes the length of strings in a specified column of a DataFrame.\n",
    "    \n",
    "    Parameters:\n",
    "    - data (pd.DataFrame): The DataFrame containing the data.\n",
    "    - column_name (str): The name of the column to analyze.\n",
    "    \n",
    "    Prints:\n",
    "    - Summary statistics of the string lengths in the column.\n",
    "    - The string with the shortest length and its length.\n",
    "    - The string with the longest length and its length.\n",
    "    - A boxplot of the string lengths in the column.\n",
    "    \"\"\"\n",
    "    column_lengths = data[column_name].str.len()\n",
    "    length_stats = column_lengths.describe()\n",
    "\n",
    "    print(f\"Summary statistics for '{column_name}' lengths:\")\n",
    "    print(length_stats)\n",
    "    print(\"\\n\")\n",
    "\n",
    "    min_length_index = column_lengths.idxmin()\n",
    "    max_length_index = column_lengths.idxmax()\n",
    "\n",
    "    min_length_value = data.loc[min_length_index, column_name]\n",
    "    max_length_value = data.loc[max_length_index, column_name]\n",
    "\n",
    "    print(f\"Shortest string in '{column_name}':\")\n",
    "    print(min_length_value)\n",
    "    print(f\"Length: {column_lengths[min_length_index]}\")\n",
    "    print(\"\\n\")\n",
    "\n",
    "    print(f\"Longest string in '{column_name}':\")\n",
    "    print(max_length_value)\n",
    "    print(f\"Length: {column_lengths[max_length_index]}\")\n",
    "    print(\"\\n\")\n",
    "\n",
    "    plt.figure(figsize=(10, 6))\n",
    "    sns.boxplot(x=column_lengths)\n",
    "    plt.title(f'Boxplot of {column_name} Lengths')\n",
    "    plt.xlabel(f'{column_name} Length')\n",
    "    plt.show()\n",
    "\n",
    "# Created this function to get info on the lengths of the strings"
   ]
  },
  {
   "cell_type": "code",
   "execution_count": null,
   "metadata": {},
   "outputs": [],
   "source": [
    "def analyze_and_normalize_column(data, column_name):\n",
    "    \"\"\"\n",
    "    Analyzes, cleans, and normalizes a specified column of a DataFrame.\n",
    "    \n",
    "    Parameters:\n",
    "    - data (pd.DataFrame): The DataFrame containing the data.\n",
    "    - column_name (str): The name of the column to analyze and normalize.\n",
    "    \n",
    "    Prints:\n",
    "    - Number of unique values in original and normalized forms.\n",
    "    - Lengths of unique values in both original and normalized forms.\n",
    "    - Details of any inconsistent formatting.\n",
    "    \"\"\"\n",
    "    data[column_name] = data[column_name].str.strip()\n",
    "    normalized_column = data[column_name].str.lower()\n",
    "    \n",
    "\n",
    "    original_unique_values = data[column_name].unique()\n",
    "    normalized_unique_values = normalized_column.unique()\n",
    "    \n",
    "\n",
    "    original_lengths = [len(value) for value in original_unique_values if pd.notna(value)]\n",
    "    normalized_lengths = [len(value) for value in normalized_unique_values if pd.notna(value)]\n",
    "    \n",
    "\n",
    "    print(f\"Unique values in '{column_name}' (original form):\")\n",
    "    print(f\"Number of unique values: {len(original_unique_values)}\")\n",
    "    print(f\"Lengths of unique values: {set(original_lengths)}\")\n",
    "    print(f\"\\nUnique values in '{column_name}' (normalized form):\")\n",
    "    print(f\"Number of unique values: {len(normalized_unique_values)}\")\n",
    "    print(f\"Lengths of unique values: {set(normalized_lengths)}\")\n",
    "    \n",
    "\n",
    "    if len(original_unique_values) != len(normalized_unique_values):\n",
    "        print(\"\\nInconsistent formatting detected:\")\n",
    "        inconsistent_values = set(original_unique_values) - set(normalized_unique_values)\n",
    "        print(\"Values with inconsistent formatting:, lowercasing to prevent irregularities\")\n",
    "    else:\n",
    "        print(\"\\nNo inconsistent formatting detected.\")\n",
    "    \n",
    "    data[column_name] = normalized_column\n",
    "\n",
    "# Created this function to get info on the unique values of the string"
   ]
  },
  {
   "cell_type": "markdown",
   "metadata": {},
   "source": [
    "#### Data Preprocessing. "
   ]
  },
  {
   "cell_type": "markdown",
   "metadata": {},
   "source": [
    "I will start by looking at the data, and planning the steps of data preprocessing. Here is how I usually approach my projects:\n",
    "1. Check the data types of all the columns.\n",
    "2. Check for null values and handle them correctly.\n",
    "3. Check for unique values or the column value distribution to manage any outliers, if needed."
   ]
  },
  {
   "cell_type": "code",
   "execution_count": null,
   "metadata": {},
   "outputs": [
    {
     "data": {
      "text/html": [
       "<div>\n",
       "<style scoped>\n",
       "    .dataframe tbody tr th:only-of-type {\n",
       "        vertical-align: middle;\n",
       "    }\n",
       "\n",
       "    .dataframe tbody tr th {\n",
       "        vertical-align: top;\n",
       "    }\n",
       "\n",
       "    .dataframe thead th {\n",
       "        text-align: right;\n",
       "    }\n",
       "</style>\n",
       "<table border=\"1\" class=\"dataframe\">\n",
       "  <thead>\n",
       "    <tr style=\"text-align: right;\">\n",
       "      <th></th>\n",
       "      <th>Name</th>\n",
       "      <th>EmployeeCount</th>\n",
       "      <th>Description</th>\n",
       "      <th>Url</th>\n",
       "      <th>Region</th>\n",
       "      <th>Country</th>\n",
       "      <th>MetroArea</th>\n",
       "      <th>City</th>\n",
       "    </tr>\n",
       "  </thead>\n",
       "  <tbody>\n",
       "    <tr>\n",
       "      <th>0</th>\n",
       "      <td>Molan Steel Co.</td>\n",
       "      <td>11-50</td>\n",
       "      <td>Molan Steel Co. engages in supplying steel pro...</td>\n",
       "      <td>molansteel.com</td>\n",
       "      <td>RY</td>\n",
       "      <td>SA</td>\n",
       "      <td>Riyadh/Saudi Arabia Metro</td>\n",
       "      <td>Riyadh</td>\n",
       "    </tr>\n",
       "    <tr>\n",
       "      <th>1</th>\n",
       "      <td>Hunter Douglas NV</td>\n",
       "      <td>10001+</td>\n",
       "      <td>Hunter Douglas NV engages in the design, manuf...</td>\n",
       "      <td>hunterdouglas.com</td>\n",
       "      <td>ZH</td>\n",
       "      <td>NL</td>\n",
       "      <td>Amsterdam/NL Metro</td>\n",
       "      <td>Rotterdam</td>\n",
       "    </tr>\n",
       "    <tr>\n",
       "      <th>2</th>\n",
       "      <td>Root, Inc.</td>\n",
       "      <td>501-1000</td>\n",
       "      <td>Root, Inc. is a technology insurance company, ...</td>\n",
       "      <td>inc.joinroot.com</td>\n",
       "      <td>OH</td>\n",
       "      <td>US</td>\n",
       "      <td>Columbus/OH Metro</td>\n",
       "      <td>Columbus</td>\n",
       "    </tr>\n",
       "    <tr>\n",
       "      <th>3</th>\n",
       "      <td>Bowlero Corp.</td>\n",
       "      <td>10001+</td>\n",
       "      <td>Bowlero Corp. engages in operating bowling cen...</td>\n",
       "      <td>bowlero.com</td>\n",
       "      <td>VA</td>\n",
       "      <td>US</td>\n",
       "      <td>Richmond/VA Metro</td>\n",
       "      <td>Mechanicsville</td>\n",
       "    </tr>\n",
       "    <tr>\n",
       "      <th>4</th>\n",
       "      <td>Meridia Real Estate III SOCIMI SA</td>\n",
       "      <td>1-10</td>\n",
       "      <td>Meridia Real Estate III SOCIMI SA operates as ...</td>\n",
       "      <td>meridiarealestateiiisocimi.com</td>\n",
       "      <td>CT</td>\n",
       "      <td>ES</td>\n",
       "      <td>Barcelona/Spain Metro</td>\n",
       "      <td>Barcelona</td>\n",
       "    </tr>\n",
       "  </tbody>\n",
       "</table>\n",
       "</div>"
      ],
      "text/plain": [
       "                                Name EmployeeCount  \\\n",
       "0                    Molan Steel Co.         11-50   \n",
       "1                  Hunter Douglas NV        10001+   \n",
       "2                         Root, Inc.      501-1000   \n",
       "3                      Bowlero Corp.        10001+   \n",
       "4  Meridia Real Estate III SOCIMI SA          1-10   \n",
       "\n",
       "                                         Description  \\\n",
       "0  Molan Steel Co. engages in supplying steel pro...   \n",
       "1  Hunter Douglas NV engages in the design, manuf...   \n",
       "2  Root, Inc. is a technology insurance company, ...   \n",
       "3  Bowlero Corp. engages in operating bowling cen...   \n",
       "4  Meridia Real Estate III SOCIMI SA operates as ...   \n",
       "\n",
       "                              Url Region Country                  MetroArea  \\\n",
       "0                  molansteel.com     RY      SA  Riyadh/Saudi Arabia Metro   \n",
       "1               hunterdouglas.com     ZH      NL         Amsterdam/NL Metro   \n",
       "2                inc.joinroot.com     OH      US          Columbus/OH Metro   \n",
       "3                     bowlero.com     VA      US          Richmond/VA Metro   \n",
       "4  meridiarealestateiiisocimi.com     CT      ES      Barcelona/Spain Metro   \n",
       "\n",
       "             City  \n",
       "0          Riyadh  \n",
       "1       Rotterdam  \n",
       "2        Columbus  \n",
       "3  Mechanicsville  \n",
       "4       Barcelona  "
      ]
     },
     "metadata": {},
     "output_type": "display_data"
    }
   ],
   "source": [
    "companies = pd.read_csv('./companies.csv')\n",
    "companies.head()\n"
   ]
  },
  {
   "cell_type": "markdown",
   "metadata": {},
   "source": [
    "##### Checking the data types of each column"
   ]
  },
  {
   "cell_type": "code",
   "execution_count": null,
   "metadata": {},
   "outputs": [
    {
     "name": "stdout",
     "output_type": "stream",
     "text": [
      "Name             object\n",
      "EmployeeCount    object\n",
      "Description      object\n",
      "Url              object\n",
      "Region           object\n",
      "Country          object\n",
      "MetroArea        object\n",
      "City             object\n",
      "dtype: object\n"
     ]
    }
   ],
   "source": [
    "print(companies.dtypes) # Checking the data types"
   ]
  },
  {
   "cell_type": "markdown",
   "metadata": {},
   "source": [
    "One thing that strikes out to me is that instead of having strings of employee count, I could have numerical values. But then we do not need numerical data here."
   ]
  },
  {
   "cell_type": "markdown",
   "metadata": {},
   "source": [
    "##### Checking for null values"
   ]
  },
  {
   "cell_type": "code",
   "execution_count": null,
   "metadata": {},
   "outputs": [
    {
     "data": {
      "text/plain": [
       "Name               0\n",
       "EmployeeCount      0\n",
       "Description       61\n",
       "Url              552\n",
       "Region            51\n",
       "Country            2\n",
       "MetroArea          0\n",
       "City               0\n",
       "dtype: int64"
      ]
     },
     "metadata": {},
     "output_type": "display_data"
    }
   ],
   "source": [
    "# Checking for null values\n",
    "companies.isnull().sum()"
   ]
  },
  {
   "cell_type": "markdown",
   "metadata": {},
   "source": [
    "Information wise, Description is one of the most important columns. \n",
    "- The URL column, might not be as useful, so I can go ahead and remove it. The words in URL maybe be removed after preprocessing or they do not give out any useful information, as they do not pertain to any specific root and maybe used as stopwords.\n",
    "- I would not be using the Employee Count column as well. So it is safe to remove that.\n",
    "-  For the description column, I do not want to lose the information about these 61 entries, so I would just replace the null values with a small word such as NA. I could use a big word such as No additional description, but it may interfere with the corpus as a whole in the vectorization process.\n",
    "- For Region and country, I followed the same logic and replaced it by Unknown.\n"
   ]
  },
  {
   "cell_type": "code",
   "execution_count": null,
   "metadata": {},
   "outputs": [],
   "source": [
    "# Replacing the null values of description with NA avaiable.\n",
    "companies['Description'].fillna('NA', inplace = True)\n",
    "# Removing the column URL\n",
    "companies = companies.drop(columns = ['Url'])\n",
    "# Replacing Region with NA\n",
    "companies['Region'].fillna('Unknown', inplace = True)\n",
    "# Replacing country with NA\n",
    "companies['Country'].fillna('Unknown',inplace=True)"
   ]
  },
  {
   "cell_type": "markdown",
   "metadata": {},
   "source": [
    "##### Checking the unique value in each of the columns.\n",
    "- For name there should be all the unqiue values, so we should rather check for duplicates there or any empty string.\n",
    "- For the description column, check the length distribution of the strings in it.\n",
    "- For the url column, maybe check the average length distribution of the strings in it.\n",
    "- For the region column, check the unique values.\n",
    "- For the country column, check the unique values\n",
    "- For the metroarea also check the unique values\n",
    "- For the city also check the unique values."
   ]
  },
  {
   "cell_type": "code",
   "execution_count": null,
   "metadata": {},
   "outputs": [
    {
     "name": "stdout",
     "output_type": "stream",
     "text": [
      "Empty DataFrame\n",
      "Columns: [Name, EmployeeCount, Description, Region, Country, MetroArea, City]\n",
      "Index: []\n"
     ]
    }
   ],
   "source": [
    "# Checking duplicates in name:\n",
    "print(companies[companies['Name'].duplicated()])\n",
    "# No duplicates found"
   ]
  },
  {
   "cell_type": "markdown",
   "metadata": {},
   "source": [
    "Here, I used one of my helper functions to get information on the lengths of specific columns. This way I am able to interpret any mistakenly entered information or data, that might not be useful for us such. Example, maybe the description was entered just as a single word. I use this on different columns"
   ]
  },
  {
   "cell_type": "code",
   "execution_count": null,
   "metadata": {},
   "outputs": [
    {
     "name": "stdout",
     "output_type": "stream",
     "text": [
      "Summary statistics for 'Description' lengths:\n",
      "count    17389.000000\n",
      "mean       465.478866\n",
      "std        254.049949\n",
      "min          2.000000\n",
      "25%        291.000000\n",
      "50%        390.000000\n",
      "75%        578.000000\n",
      "max       2221.000000\n",
      "Name: Description, dtype: float64\n",
      "\n",
      "\n",
      "Shortest string in 'Description':\n",
      "NA\n",
      "Length: 2\n",
      "\n",
      "\n",
      "Longest string in 'Description':\n",
      "Dover Corp. operates as a manufacturer and solutions provider delivering innovative equipment and components, consumable supplies, aftermarket parts, software and digital solutions, and support services. It operates through the following segments: Engineered Products, Clean Energy and Fueling, Imaging and Identification, Pumps and Process Solutions, and Climate and Sustainability Technologies. The Engineered Products segment is involved in the equipment, components, software, solutions and services to the vehicle aftermarket, waste handling, industrial automation, aerospace and defense, industrial winch and hoist, and fluid dispensing end-markets. The Clean Energy and Fueling segment focuses on the components, equipment, software, solutions and services enabling safe and reliable storage, transport and dispensing of traditional and clean fuels, cryogenic gases, and other hazardous substances along the supply chain, and safe and efficient operation of convenience retail, retail fueling and vehicle wash establishments, as well as facilities where cryogenic gases are produced, stored or consumed. The Imaging and Identification segment supplies precision marking and coding, product traceability, brand protection and digital textile printing equipment, as well as related consumables, software and services to the global packaged and consumer goods, pharmaceutical, industrial manufacturing, textile and other end-markets. The Pumps and Process Solutions segment consists of specialty pumps and flow meters, highly engineered precision components for rotating and reciprocating machines, fluid connecting solutions and plastics and polymer processing equipment, serving single-use biopharmaceutical production, diversified industrial manufacturing, chemical production, plastics and polymer processing, midstream and downstream oil and gas and other end markets. The Climate and Sustainability Technologies segment refers to innovative and energy-efficient equipment, components and parts for the commercial refrigeration, equipment and systems, heating and cooling, and beverage can-making equipment markets. The company was founded by George L. Ohrstrom in 1947 and is headquartered in Downers Grove, IL.\n",
      "Length: 2221\n",
      "\n",
      "\n"
     ]
    },
    {
     "data": {
      "image/png": "[encoded data removed]",
      "text/plain": [
       "<Figure size 1000x600 with 1 Axes>"
      ]
     },
     "metadata": {},
     "output_type": "display_data"
    }
   ],
   "source": [
    "analyze_column_lengths(companies, 'Description')"
   ]
  },
  {
   "cell_type": "markdown",
   "metadata": {},
   "source": [
    "This makes sure that we do not have a description that suggests nothing but blank spaces or irrelevant information."
   ]
  },
  {
   "cell_type": "markdown",
   "metadata": {},
   "source": [
    "Here, I used another one of my helper functions, whose goal was to check for consistent formatting. If it does detect it it just converts the whole column to lowercase to remove ambiguity. The main aim was to check for values such as United States and united states and make sure that they are represented by a one reference rather than two. "
   ]
  },
  {
   "cell_type": "code",
   "execution_count": null,
   "metadata": {},
   "outputs": [
    {
     "name": "stdout",
     "output_type": "stream",
     "text": [
      "Unique values in 'Region' (original form):\n",
      "Number of unique values: 373\n",
      "Lengths of unique values: {2, 7}\n",
      "\n",
      "Unique values in 'Region' (normalized form):\n",
      "Number of unique values: 373\n",
      "Lengths of unique values: {2, 7}\n",
      "\n",
      "No inconsistent formatting detected.\n"
     ]
    }
   ],
   "source": [
    "analyze_and_normalize_column(companies, 'Region')"
   ]
  },
  {
   "cell_type": "code",
   "execution_count": null,
   "metadata": {},
   "outputs": [
    {
     "name": "stdout",
     "output_type": "stream",
     "text": [
      "Unique values in 'Country' (original form):\n",
      "Number of unique values: 113\n",
      "Lengths of unique values: {2, 7}\n",
      "\n",
      "Unique values in 'Country' (normalized form):\n",
      "Number of unique values: 113\n",
      "Lengths of unique values: {2, 7}\n",
      "\n",
      "No inconsistent formatting detected.\n"
     ]
    }
   ],
   "source": [
    "analyze_and_normalize_column(companies, 'Country')"
   ]
  },
  {
   "cell_type": "code",
   "execution_count": null,
   "metadata": {},
   "outputs": [
    {
     "name": "stdout",
     "output_type": "stream",
     "text": [
      "Unique values in 'MetroArea' (original form):\n",
      "Number of unique values: 143\n",
      "Lengths of unique values: {12, 13, 14, 15, 16, 17, 18, 19, 20, 21, 22, 23, 24, 25}\n",
      "\n",
      "Unique values in 'MetroArea' (normalized form):\n",
      "Number of unique values: 143\n",
      "Lengths of unique values: {12, 13, 14, 15, 16, 17, 18, 19, 20, 21, 22, 23, 24, 25}\n",
      "\n",
      "No inconsistent formatting detected.\n"
     ]
    }
   ],
   "source": [
    "analyze_and_normalize_column(companies, 'MetroArea')"
   ]
  },
  {
   "cell_type": "code",
   "execution_count": null,
   "metadata": {},
   "outputs": [
    {
     "name": "stdout",
     "output_type": "stream",
     "text": [
      "Unique values in 'City' (original form):\n",
      "Number of unique values: 3927\n",
      "Lengths of unique values: {2, 3, 4, 5, 6, 7, 8, 9, 10, 11, 12, 13, 14, 15, 16, 17, 18, 19, 20, 21, 22, 23, 24, 25, 26, 29}\n",
      "\n",
      "Unique values in 'City' (normalized form):\n",
      "Number of unique values: 3920\n",
      "Lengths of unique values: {2, 3, 4, 5, 6, 7, 8, 9, 10, 11, 12, 13, 14, 15, 16, 17, 18, 19, 20, 21, 22, 23, 24, 25, 26, 29}\n",
      "\n",
      "Inconsistent formatting detected:\n",
      "Values with inconsistent formatting:, lowercasing to prevent irregularities\n"
     ]
    }
   ],
   "source": [
    "analyze_and_normalize_column(companies, 'City')"
   ]
  },
  {
   "cell_type": "code",
   "execution_count": null,
   "metadata": {},
   "outputs": [
    {
     "data": {
      "text/html": [
       "<div>\n",
       "<style scoped>\n",
       "    .dataframe tbody tr th:only-of-type {\n",
       "        vertical-align: middle;\n",
       "    }\n",
       "\n",
       "    .dataframe tbody tr th {\n",
       "        vertical-align: top;\n",
       "    }\n",
       "\n",
       "    .dataframe thead th {\n",
       "        text-align: right;\n",
       "    }\n",
       "</style>\n",
       "<table border=\"1\" class=\"dataframe\">\n",
       "  <thead>\n",
       "    <tr style=\"text-align: right;\">\n",
       "      <th></th>\n",
       "      <th>Name</th>\n",
       "      <th>EmployeeCount</th>\n",
       "      <th>Description</th>\n",
       "      <th>Region</th>\n",
       "      <th>Country</th>\n",
       "      <th>MetroArea</th>\n",
       "      <th>City</th>\n",
       "    </tr>\n",
       "  </thead>\n",
       "  <tbody>\n",
       "    <tr>\n",
       "      <th>0</th>\n",
       "      <td>Molan Steel Co.</td>\n",
       "      <td>11-50</td>\n",
       "      <td>Molan Steel Co. engages in supplying steel pro...</td>\n",
       "      <td>ry</td>\n",
       "      <td>sa</td>\n",
       "      <td>riyadh/saudi arabia metro</td>\n",
       "      <td>riyadh</td>\n",
       "    </tr>\n",
       "    <tr>\n",
       "      <th>1</th>\n",
       "      <td>Hunter Douglas NV</td>\n",
       "      <td>10001+</td>\n",
       "      <td>Hunter Douglas NV engages in the design, manuf...</td>\n",
       "      <td>zh</td>\n",
       "      <td>nl</td>\n",
       "      <td>amsterdam/nl metro</td>\n",
       "      <td>rotterdam</td>\n",
       "    </tr>\n",
       "    <tr>\n",
       "      <th>2</th>\n",
       "      <td>Root, Inc.</td>\n",
       "      <td>501-1000</td>\n",
       "      <td>Root, Inc. is a technology insurance company, ...</td>\n",
       "      <td>oh</td>\n",
       "      <td>us</td>\n",
       "      <td>columbus/oh metro</td>\n",
       "      <td>columbus</td>\n",
       "    </tr>\n",
       "    <tr>\n",
       "      <th>3</th>\n",
       "      <td>Bowlero Corp.</td>\n",
       "      <td>10001+</td>\n",
       "      <td>Bowlero Corp. engages in operating bowling cen...</td>\n",
       "      <td>va</td>\n",
       "      <td>us</td>\n",
       "      <td>richmond/va metro</td>\n",
       "      <td>mechanicsville</td>\n",
       "    </tr>\n",
       "    <tr>\n",
       "      <th>4</th>\n",
       "      <td>Meridia Real Estate III SOCIMI SA</td>\n",
       "      <td>1-10</td>\n",
       "      <td>Meridia Real Estate III SOCIMI SA operates as ...</td>\n",
       "      <td>ct</td>\n",
       "      <td>es</td>\n",
       "      <td>barcelona/spain metro</td>\n",
       "      <td>barcelona</td>\n",
       "    </tr>\n",
       "  </tbody>\n",
       "</table>\n",
       "</div>"
      ],
      "text/plain": [
       "                                Name EmployeeCount  \\\n",
       "0                    Molan Steel Co.         11-50   \n",
       "1                  Hunter Douglas NV        10001+   \n",
       "2                         Root, Inc.      501-1000   \n",
       "3                      Bowlero Corp.        10001+   \n",
       "4  Meridia Real Estate III SOCIMI SA          1-10   \n",
       "\n",
       "                                         Description Region Country  \\\n",
       "0  Molan Steel Co. engages in supplying steel pro...     ry      sa   \n",
       "1  Hunter Douglas NV engages in the design, manuf...     zh      nl   \n",
       "2  Root, Inc. is a technology insurance company, ...     oh      us   \n",
       "3  Bowlero Corp. engages in operating bowling cen...     va      us   \n",
       "4  Meridia Real Estate III SOCIMI SA operates as ...     ct      es   \n",
       "\n",
       "                   MetroArea            City  \n",
       "0  riyadh/saudi arabia metro          riyadh  \n",
       "1         amsterdam/nl metro       rotterdam  \n",
       "2          columbus/oh metro        columbus  \n",
       "3          richmond/va metro  mechanicsville  \n",
       "4      barcelona/spain metro       barcelona  "
      ]
     },
     "metadata": {},
     "output_type": "display_data"
    }
   ],
   "source": [
    "companies.head()"
   ]
  },
  {
   "cell_type": "markdown",
   "metadata": {},
   "source": [
    "Removing the employee count column as we do not really need those numbers."
   ]
  },
  {
   "cell_type": "code",
   "execution_count": null,
   "metadata": {},
   "outputs": [],
   "source": [
    "companies = companies.drop(columns=['EmployeeCount'])"
   ]
  },
  {
   "cell_type": "markdown",
   "metadata": {},
   "source": [
    "The data is now cleaned, and ready to be used. Taking a last look at the data"
   ]
  },
  {
   "cell_type": "code",
   "execution_count": null,
   "metadata": {},
   "outputs": [
    {
     "data": {
      "text/html": [
       "<div>\n",
       "<style scoped>\n",
       "    .dataframe tbody tr th:only-of-type {\n",
       "        vertical-align: middle;\n",
       "    }\n",
       "\n",
       "    .dataframe tbody tr th {\n",
       "        vertical-align: top;\n",
       "    }\n",
       "\n",
       "    .dataframe thead th {\n",
       "        text-align: right;\n",
       "    }\n",
       "</style>\n",
       "<table border=\"1\" class=\"dataframe\">\n",
       "  <thead>\n",
       "    <tr style=\"text-align: right;\">\n",
       "      <th></th>\n",
       "      <th>Name</th>\n",
       "      <th>Description</th>\n",
       "      <th>Region</th>\n",
       "      <th>Country</th>\n",
       "      <th>MetroArea</th>\n",
       "      <th>City</th>\n",
       "    </tr>\n",
       "  </thead>\n",
       "  <tbody>\n",
       "    <tr>\n",
       "      <th>0</th>\n",
       "      <td>Molan Steel Co.</td>\n",
       "      <td>Molan Steel Co. engages in supplying steel pro...</td>\n",
       "      <td>ry</td>\n",
       "      <td>sa</td>\n",
       "      <td>riyadh/saudi arabia metro</td>\n",
       "      <td>riyadh</td>\n",
       "    </tr>\n",
       "    <tr>\n",
       "      <th>1</th>\n",
       "      <td>Hunter Douglas NV</td>\n",
       "      <td>Hunter Douglas NV engages in the design, manuf...</td>\n",
       "      <td>zh</td>\n",
       "      <td>nl</td>\n",
       "      <td>amsterdam/nl metro</td>\n",
       "      <td>rotterdam</td>\n",
       "    </tr>\n",
       "    <tr>\n",
       "      <th>2</th>\n",
       "      <td>Root, Inc.</td>\n",
       "      <td>Root, Inc. is a technology insurance company, ...</td>\n",
       "      <td>oh</td>\n",
       "      <td>us</td>\n",
       "      <td>columbus/oh metro</td>\n",
       "      <td>columbus</td>\n",
       "    </tr>\n",
       "    <tr>\n",
       "      <th>3</th>\n",
       "      <td>Bowlero Corp.</td>\n",
       "      <td>Bowlero Corp. engages in operating bowling cen...</td>\n",
       "      <td>va</td>\n",
       "      <td>us</td>\n",
       "      <td>richmond/va metro</td>\n",
       "      <td>mechanicsville</td>\n",
       "    </tr>\n",
       "    <tr>\n",
       "      <th>4</th>\n",
       "      <td>Meridia Real Estate III SOCIMI SA</td>\n",
       "      <td>Meridia Real Estate III SOCIMI SA operates as ...</td>\n",
       "      <td>ct</td>\n",
       "      <td>es</td>\n",
       "      <td>barcelona/spain metro</td>\n",
       "      <td>barcelona</td>\n",
       "    </tr>\n",
       "  </tbody>\n",
       "</table>\n",
       "</div>"
      ],
      "text/plain": [
       "                                Name  \\\n",
       "0                    Molan Steel Co.   \n",
       "1                  Hunter Douglas NV   \n",
       "2                         Root, Inc.   \n",
       "3                      Bowlero Corp.   \n",
       "4  Meridia Real Estate III SOCIMI SA   \n",
       "\n",
       "                                         Description Region Country  \\\n",
       "0  Molan Steel Co. engages in supplying steel pro...     ry      sa   \n",
       "1  Hunter Douglas NV engages in the design, manuf...     zh      nl   \n",
       "2  Root, Inc. is a technology insurance company, ...     oh      us   \n",
       "3  Bowlero Corp. engages in operating bowling cen...     va      us   \n",
       "4  Meridia Real Estate III SOCIMI SA operates as ...     ct      es   \n",
       "\n",
       "                   MetroArea            City  \n",
       "0  riyadh/saudi arabia metro          riyadh  \n",
       "1         amsterdam/nl metro       rotterdam  \n",
       "2          columbus/oh metro        columbus  \n",
       "3          richmond/va metro  mechanicsville  \n",
       "4      barcelona/spain metro       barcelona  "
      ]
     },
     "metadata": {},
     "output_type": "display_data"
    }
   ],
   "source": [
    "companies.head()"
   ]
  },
  {
   "cell_type": "code",
   "execution_count": null,
   "metadata": {},
   "outputs": [
    {
     "data": {
      "text/plain": [
       "Name           0\n",
       "Description    0\n",
       "Region         0\n",
       "Country        0\n",
       "MetroArea      0\n",
       "City           0\n",
       "dtype: int64"
      ]
     },
     "metadata": {},
     "output_type": "display_data"
    }
   ],
   "source": [
    "companies.isnull().sum()"
   ]
  },
  {
   "cell_type": "markdown",
   "metadata": {},
   "source": [
    "Creating a combined text column so that we all have all the necessary information under one column, and it is then easy to vectorize."
   ]
  },
  {
   "cell_type": "code",
   "execution_count": null,
   "metadata": {},
   "outputs": [],
   "source": [
    "companies['combined_text'] = companies['Description'] + \" \" +companies['Region'] + \" \" + companies['Country'] + \" \" + companies['MetroArea'] + \" \" + companies['City']"
   ]
  },
  {
   "cell_type": "markdown",
   "metadata": {},
   "source": [
    "#### Search Algoritm -  Basic"
   ]
  },
  {
   "cell_type": "markdown",
   "metadata": {},
   "source": [
    "For the basic search algorithm, I am using the TF IDF vectorization, and then calculating the cosine similarity. I will explain more about this approach in the answer box below."
   ]
  },
  {
   "cell_type": "code",
   "execution_count": null,
   "metadata": {},
   "outputs": [],
   "source": [
    "def search(query: str, companies: pd.DataFrame, n=100) -> pd.DataFrame:\n",
    "    \"\"\"\n",
    "    Searches for the most relevant companies based on a query using TF-IDF vectorization and cosine similarity.\n",
    "\n",
    "    Parameters:\n",
    "    - query (str): The search query to find relevant companies.\n",
    "    - companies (pd.DataFrame): A DataFrame containing company data with a 'combined_text' column for text search.\n",
    "    - n (int): The number of top results to return (default is 100).\n",
    "\n",
    "    Returns:\n",
    "    - pd.DataFrame: A DataFrame containing the top-n most relevant companies and their similarity scores.\n",
    "    \"\"\"\n",
    "\n",
    "    tfidf = TfidfVectorizer(stop_words='english')\n",
    "    tfidf_matrix = tfidf.fit_transform(companies['combined_text'])\n",
    "    query_vec = tfidf.transform([query])\n",
    "\n",
    "    cosine_similarities = linear_kernel(query_vec, tfidf_matrix).flatten()\n",
    "\n",
    "    top_n_indices = cosine_similarities.argsort()[-n:][::-1]\n",
    "\n",
    "    results = companies.iloc[top_n_indices].copy()\n",
    "    results['similarity_score'] = cosine_similarities[top_n_indices]\n",
    "    \n",
    "    return results"
   ]
  },
  {
   "cell_type": "markdown",
   "metadata": {},
   "source": [
    "#### Search Algorithm MMR"
   ]
  },
  {
   "cell_type": "code",
   "execution_count": null,
   "metadata": {},
   "outputs": [],
   "source": [
    "import numpy as np\n",
    "from sklearn.metrics.pairwise import linear_kernel\n",
    "\n",
    "def rerank(results: pd.DataFrame, lambda_param: float = 0.5, n=10) -> pd.DataFrame:\n",
    "    \"\"\"\n",
    "    Re-ranks the search results based on Maximal Marginal Relevance (MMR) to balance relevance and diversity.\n",
    "\n",
    "    Parameters:\n",
    "    - results (pd.DataFrame): DataFrame containing the search results with 'combined_text' and similarity scores.\n",
    "    - lambda_param (float): Trade-off parameter between relevance and redundancy (default is 0.5).\n",
    "\n",
    "    Returns:\n",
    "    - pd.DataFrame: A DataFrame with the results re-ranked based on MMR and including the MMR score.\n",
    "    \"\"\"\n",
    "    if results.empty:\n",
    "        return results\n",
    "    \n",
    "    # Ensure 'vector' column exists\n",
    "    if 'vector' not in results.columns:\n",
    "        tfidf = TfidfVectorizer(stop_words='english')\n",
    "        tfidf_matrix = tfidf.fit_transform(results['combined_text'])\n",
    "        results['vector'] = [tfidf_matrix.getrow(i).toarray()[0] for i in range(tfidf_matrix.shape[0])]\n",
    "    else:\n",
    "        vectors = np.array(results['vector'].tolist())\n",
    "    \n",
    "    vectors = np.array(results['vector'].tolist())\n",
    "    relevance_scores = results['similarity_score'].values\n",
    "\n",
    "    # Compute pairwise cosine similarities (redundancy)\n",
    "    redundancy_matrix = linear_kernel(vectors, vectors)\n",
    "    np.fill_diagonal(redundancy_matrix, 0)  # No self-similarity\n",
    "    max_redundancy = redundancy_matrix.max(axis=1)\n",
    "\n",
    "    # Compute MMR scores\n",
    "    mmr_scores = lambda_param * relevance_scores - (1 - lambda_param) * max_redundancy\n",
    "\n",
    "    # Add MMR scores to results and sort by MMR score\n",
    "    results['mmr_score'] = mmr_scores\n",
    "    ranked_results = results.sort_values(by='mmr_score', ascending=False).head(n)\n",
    "\n",
    "    return ranked_results.drop(columns=['vector'])\n"
   ]
  },
  {
   "cell_type": "markdown",
   "metadata": {},
   "source": [
    "### Demo"
   ]
  },
  {
   "cell_type": "code",
   "execution_count": null,
   "metadata": {},
   "outputs": [
    {
     "name": "stdout",
     "output_type": "stream",
     "text": [
      "Top 5 Search Results:\n"
     ]
    },
    {
     "data": {
      "text/html": [
       "<div>\n",
       "<style scoped>\n",
       "    .dataframe tbody tr th:only-of-type {\n",
       "        vertical-align: middle;\n",
       "    }\n",
       "\n",
       "    .dataframe tbody tr th {\n",
       "        vertical-align: top;\n",
       "    }\n",
       "\n",
       "    .dataframe thead th {\n",
       "        text-align: right;\n",
       "    }\n",
       "</style>\n",
       "<table border=\"1\" class=\"dataframe\">\n",
       "  <thead>\n",
       "    <tr style=\"text-align: right;\">\n",
       "      <th></th>\n",
       "      <th>Name</th>\n",
       "      <th>similarity_score</th>\n",
       "      <th>Description</th>\n",
       "      <th>Region</th>\n",
       "      <th>Country</th>\n",
       "      <th>MetroArea</th>\n",
       "      <th>City</th>\n",
       "    </tr>\n",
       "  </thead>\n",
       "  <tbody>\n",
       "    <tr>\n",
       "      <th>17327</th>\n",
       "      <td>Yamato Kogyo Co., Ltd.</td>\n",
       "      <td>0.633366</td>\n",
       "      <td>Yamato Kogyo Co., Ltd. engages in the manageme...</td>\n",
       "      <td>hy</td>\n",
       "      <td>jp</td>\n",
       "      <td>osaka/japan metro</td>\n",
       "      <td>himeji</td>\n",
       "    </tr>\n",
       "    <tr>\n",
       "      <th>9911</th>\n",
       "      <td>Argent Industrial Ltd.</td>\n",
       "      <td>0.619324</td>\n",
       "      <td>Argent Industrial Ltd. operates as a holding c...</td>\n",
       "      <td>nl</td>\n",
       "      <td>za</td>\n",
       "      <td>johannesburg/s.afr. metro</td>\n",
       "      <td>durban</td>\n",
       "    </tr>\n",
       "    <tr>\n",
       "      <th>15209</th>\n",
       "      <td>AnnAik Ltd.</td>\n",
       "      <td>0.512000</td>\n",
       "      <td>AnnAik Ltd. is an investment holding company, ...</td>\n",
       "      <td>ce</td>\n",
       "      <td>sg</td>\n",
       "      <td>singapore metro</td>\n",
       "      <td>singapore</td>\n",
       "    </tr>\n",
       "    <tr>\n",
       "      <th>15230</th>\n",
       "      <td>Kori Holdings Ltd.</td>\n",
       "      <td>0.502256</td>\n",
       "      <td>Kori Holdings Ltd. is an investment company, w...</td>\n",
       "      <td>ce</td>\n",
       "      <td>sg</td>\n",
       "      <td>singapore metro</td>\n",
       "      <td>singapore</td>\n",
       "    </tr>\n",
       "    <tr>\n",
       "      <th>10589</th>\n",
       "      <td>Steel Dynamics, Inc.</td>\n",
       "      <td>0.497093</td>\n",
       "      <td>Steel Dynamics, Inc. engages in the manufactur...</td>\n",
       "      <td>in</td>\n",
       "      <td>us</td>\n",
       "      <td>indianapolis/in metro</td>\n",
       "      <td>fort wayne</td>\n",
       "    </tr>\n",
       "    <tr>\n",
       "      <th>17124</th>\n",
       "      <td>Kyoei Steel Ltd.</td>\n",
       "      <td>0.481389</td>\n",
       "      <td>Kyoei Steel Ltd. engages in the manufacture, s...</td>\n",
       "      <td>os</td>\n",
       "      <td>jp</td>\n",
       "      <td>osaka/japan metro</td>\n",
       "      <td>osaka</td>\n",
       "    </tr>\n",
       "    <tr>\n",
       "      <th>11913</th>\n",
       "      <td>Swiss Steel Holding AG</td>\n",
       "      <td>0.475330</td>\n",
       "      <td>Swiss Steel Holding AG engages in the producti...</td>\n",
       "      <td>lu</td>\n",
       "      <td>ch</td>\n",
       "      <td>zurich/switzerland metro</td>\n",
       "      <td>lucerne</td>\n",
       "    </tr>\n",
       "    <tr>\n",
       "      <th>1188</th>\n",
       "      <td>Al Yamamah Steel Industries Co.</td>\n",
       "      <td>0.473252</td>\n",
       "      <td>Al Yamamah Steel Industries Co. engages in the...</td>\n",
       "      <td>ry</td>\n",
       "      <td>sa</td>\n",
       "      <td>riyadh/saudi arabia metro</td>\n",
       "      <td>riyadh</td>\n",
       "    </tr>\n",
       "    <tr>\n",
       "      <th>14855</th>\n",
       "      <td>EVRAZ Plc</td>\n",
       "      <td>0.460026</td>\n",
       "      <td>EVRAZ Plc is a holding company, which engages ...</td>\n",
       "      <td>gl</td>\n",
       "      <td>gb</td>\n",
       "      <td>london/uk metro</td>\n",
       "      <td>london</td>\n",
       "    </tr>\n",
       "    <tr>\n",
       "      <th>15453</th>\n",
       "      <td>Lion Asiapac Ltd.</td>\n",
       "      <td>0.452858</td>\n",
       "      <td>Lion Asiapac Ltd. operates as an investment ho...</td>\n",
       "      <td>ce</td>\n",
       "      <td>sg</td>\n",
       "      <td>singapore metro</td>\n",
       "      <td>singapore</td>\n",
       "    </tr>\n",
       "  </tbody>\n",
       "</table>\n",
       "</div>"
      ],
      "text/plain": [
       "                                  Name  similarity_score  \\\n",
       "17327           Yamato Kogyo Co., Ltd.          0.633366   \n",
       "9911            Argent Industrial Ltd.          0.619324   \n",
       "15209                      AnnAik Ltd.          0.512000   \n",
       "15230               Kori Holdings Ltd.          0.502256   \n",
       "10589             Steel Dynamics, Inc.          0.497093   \n",
       "17124                 Kyoei Steel Ltd.          0.481389   \n",
       "11913           Swiss Steel Holding AG          0.475330   \n",
       "1188   Al Yamamah Steel Industries Co.          0.473252   \n",
       "14855                        EVRAZ Plc          0.460026   \n",
       "15453                Lion Asiapac Ltd.          0.452858   \n",
       "\n",
       "                                             Description Region Country  \\\n",
       "17327  Yamato Kogyo Co., Ltd. engages in the manageme...     hy      jp   \n",
       "9911   Argent Industrial Ltd. operates as a holding c...     nl      za   \n",
       "15209  AnnAik Ltd. is an investment holding company, ...     ce      sg   \n",
       "15230  Kori Holdings Ltd. is an investment company, w...     ce      sg   \n",
       "10589  Steel Dynamics, Inc. engages in the manufactur...     in      us   \n",
       "17124  Kyoei Steel Ltd. engages in the manufacture, s...     os      jp   \n",
       "11913  Swiss Steel Holding AG engages in the producti...     lu      ch   \n",
       "1188   Al Yamamah Steel Industries Co. engages in the...     ry      sa   \n",
       "14855  EVRAZ Plc is a holding company, which engages ...     gl      gb   \n",
       "15453  Lion Asiapac Ltd. operates as an investment ho...     ce      sg   \n",
       "\n",
       "                       MetroArea        City  \n",
       "17327          osaka/japan metro      himeji  \n",
       "9911   johannesburg/s.afr. metro      durban  \n",
       "15209            singapore metro   singapore  \n",
       "15230            singapore metro   singapore  \n",
       "10589      indianapolis/in metro  fort wayne  \n",
       "17124          osaka/japan metro       osaka  \n",
       "11913   zurich/switzerland metro     lucerne  \n",
       "1188   riyadh/saudi arabia metro      riyadh  \n",
       "14855            london/uk metro      london  \n",
       "15453            singapore metro   singapore  "
      ]
     },
     "metadata": {},
     "output_type": "display_data"
    }
   ],
   "source": [
    "query = \"steel manufacturing company\"\n",
    "results = search(query, companies, n=10)\n",
    "\n",
    "print(\"Top 5 Search Results:\")\n",
    "results[['Name', 'similarity_score', 'Description','Region','Country','MetroArea','City']]"
   ]
  },
  {
   "cell_type": "code",
   "execution_count": null,
   "metadata": {},
   "outputs": [
    {
     "data": {
      "text/html": [
       "<div>\n",
       "<style scoped>\n",
       "    .dataframe tbody tr th:only-of-type {\n",
       "        vertical-align: middle;\n",
       "    }\n",
       "\n",
       "    .dataframe tbody tr th {\n",
       "        vertical-align: top;\n",
       "    }\n",
       "\n",
       "    .dataframe thead th {\n",
       "        text-align: right;\n",
       "    }\n",
       "</style>\n",
       "<table border=\"1\" class=\"dataframe\">\n",
       "  <thead>\n",
       "    <tr style=\"text-align: right;\">\n",
       "      <th></th>\n",
       "      <th>Name</th>\n",
       "      <th>Description</th>\n",
       "      <th>Region</th>\n",
       "      <th>Country</th>\n",
       "      <th>MetroArea</th>\n",
       "      <th>City</th>\n",
       "      <th>combined_text</th>\n",
       "      <th>similarity_score</th>\n",
       "      <th>mmr_score</th>\n",
       "    </tr>\n",
       "  </thead>\n",
       "  <tbody>\n",
       "    <tr>\n",
       "      <th>17327</th>\n",
       "      <td>Yamato Kogyo Co., Ltd.</td>\n",
       "      <td>Yamato Kogyo Co., Ltd. engages in the manageme...</td>\n",
       "      <td>hy</td>\n",
       "      <td>jp</td>\n",
       "      <td>osaka/japan metro</td>\n",
       "      <td>himeji</td>\n",
       "      <td>Yamato Kogyo Co., Ltd. engages in the manageme...</td>\n",
       "      <td>0.580026</td>\n",
       "      <td>0.174434</td>\n",
       "    </tr>\n",
       "    <tr>\n",
       "      <th>9191</th>\n",
       "      <td>Ternium Argentina SA</td>\n",
       "      <td>Ternium Argentina SA engages in the manufactur...</td>\n",
       "      <td>ba</td>\n",
       "      <td>ar</td>\n",
       "      <td>buenos aires/argentina</td>\n",
       "      <td>buenos aires</td>\n",
       "      <td>Ternium Argentina SA engages in the manufactur...</td>\n",
       "      <td>0.359326</td>\n",
       "      <td>0.132524</td>\n",
       "    </tr>\n",
       "    <tr>\n",
       "      <th>9911</th>\n",
       "      <td>Argent Industrial Ltd.</td>\n",
       "      <td>Argent Industrial Ltd. operates as a holding c...</td>\n",
       "      <td>nl</td>\n",
       "      <td>za</td>\n",
       "      <td>johannesburg/s.afr. metro</td>\n",
       "      <td>durban</td>\n",
       "      <td>Argent Industrial Ltd. operates as a holding c...</td>\n",
       "      <td>0.500829</td>\n",
       "      <td>0.125165</td>\n",
       "    </tr>\n",
       "    <tr>\n",
       "      <th>10589</th>\n",
       "      <td>Steel Dynamics, Inc.</td>\n",
       "      <td>Steel Dynamics, Inc. engages in the manufactur...</td>\n",
       "      <td>in</td>\n",
       "      <td>us</td>\n",
       "      <td>indianapolis/in metro</td>\n",
       "      <td>fort wayne</td>\n",
       "      <td>Steel Dynamics, Inc. engages in the manufactur...</td>\n",
       "      <td>0.465828</td>\n",
       "      <td>0.119376</td>\n",
       "    </tr>\n",
       "    <tr>\n",
       "      <th>14855</th>\n",
       "      <td>EVRAZ Plc</td>\n",
       "      <td>EVRAZ Plc is a holding company, which engages ...</td>\n",
       "      <td>gl</td>\n",
       "      <td>gb</td>\n",
       "      <td>london/uk metro</td>\n",
       "      <td>london</td>\n",
       "      <td>EVRAZ Plc is a holding company, which engages ...</td>\n",
       "      <td>0.427854</td>\n",
       "      <td>0.118635</td>\n",
       "    </tr>\n",
       "  </tbody>\n",
       "</table>\n",
       "</div>"
      ],
      "text/plain": [
       "                         Name  \\\n",
       "17327  Yamato Kogyo Co., Ltd.   \n",
       "9191     Ternium Argentina SA   \n",
       "9911   Argent Industrial Ltd.   \n",
       "10589    Steel Dynamics, Inc.   \n",
       "14855               EVRAZ Plc   \n",
       "\n",
       "                                             Description Region Country  \\\n",
       "17327  Yamato Kogyo Co., Ltd. engages in the manageme...     hy      jp   \n",
       "9191   Ternium Argentina SA engages in the manufactur...     ba      ar   \n",
       "9911   Argent Industrial Ltd. operates as a holding c...     nl      za   \n",
       "10589  Steel Dynamics, Inc. engages in the manufactur...     in      us   \n",
       "14855  EVRAZ Plc is a holding company, which engages ...     gl      gb   \n",
       "\n",
       "                       MetroArea          City  \\\n",
       "17327          osaka/japan metro        himeji   \n",
       "9191      buenos aires/argentina  buenos aires   \n",
       "9911   johannesburg/s.afr. metro        durban   \n",
       "10589      indianapolis/in metro    fort wayne   \n",
       "14855            london/uk metro        london   \n",
       "\n",
       "                                           combined_text  similarity_score  \\\n",
       "17327  Yamato Kogyo Co., Ltd. engages in the manageme...          0.580026   \n",
       "9191   Ternium Argentina SA engages in the manufactur...          0.359326   \n",
       "9911   Argent Industrial Ltd. operates as a holding c...          0.500829   \n",
       "10589  Steel Dynamics, Inc. engages in the manufactur...          0.465828   \n",
       "14855  EVRAZ Plc is a holding company, which engages ...          0.427854   \n",
       "\n",
       "       mmr_score  \n",
       "17327   0.174434  \n",
       "9191    0.132524  \n",
       "9911    0.125165  \n",
       "10589   0.119376  \n",
       "14855   0.118635  "
      ]
     },
     "metadata": {},
     "output_type": "display_data"
    }
   ],
   "source": [
    "rerank(search('companies who manufacture steel products', companies), n=5)"
   ]
  },
  {
   "cell_type": "markdown",
   "metadata": {},
   "source": [
    "For the base search I used the Tf-idf vectorization on the texts, to convert them into numbers, and then calculate the cosine similarity between the vectors. Here is a quick rundown on how the TF- IDF vectorization converts text into numbers.\n",
    "\n",
    "$$\n",
    "\\text{TF}(t, d) = \\frac{\\text{Number of times } t \\text{ appears in } d}{\\text{Total number of terms in } d}\n",
    "$$\n",
    "\n",
    "\n",
    "$$\n",
    "\\text{IDF}(t) = \\log \\left(\\frac{N}{1 + \\text{Number of documents containing } t}\\right)\n",
    "$$\n",
    "\n",
    "\n",
    "$$\n",
    "\\text{TF-IDF}(t, d) = \\text{TF}(t, d) \\times \\text{IDF}(t)\n",
    "$$\n"
   ]
  },
  {
   "cell_type": "markdown",
   "metadata": {},
   "source": [
    "The principles of MMR continue to resonate in contemporary systems:\n",
    "\n",
    "**Diversity in Search Results**:\n",
    "Modern search systems rely on MMR-inspired techniques to ensure diverse viewpoints, especially in subjective or controversial topics like news or opinions.\n",
    "\n",
    "**AI-Powered Summarization**:\n",
    "Tools like SummarizeBot or features in Google Docs use extractive summarization that incorporates MMR to provide coherent and non-redundant summaries.\n",
    "\n",
    "\n"
   ]
  },
  {
   "cell_type": "markdown",
   "metadata": {},
   "source": [
    "**Conclusion:**\n",
    "Overall, MMR built a strong foundation for a lot of search and systems that came after it - recommendation systems, summarization systems and a plethora of systems that we use today. As we reach a rapid developing age of Artifical Intelligence, and prompt generated videos, we all have Carbonell and Goldstein to thank for it all. They built the foundation that helped push the wheel of AI. \n",
    "\n",
    "I hope this post was informative, reach out to me for any further questions."
   ]
  }
 ],
 "metadata": {
  "kernelspec": {
   "display_name": "base",
   "language": "python",
   "name": "python3"
  },
  "language_info": {
   "name": "python",
   "version": "3.10.12"
  }
 },
 "nbformat": 4,
 "nbformat_minor": 2
}
